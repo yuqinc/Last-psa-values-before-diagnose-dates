{
 "cells": [
  {
   "cell_type": "markdown",
   "metadata": {},
   "source": [
    "# README.md\n",
    "\n",
    "Research Question: For the 399 pts with the 899 rows of info, what are the last PSA values before dx date?"
   ]
  },
  {
   "cell_type": "markdown",
   "metadata": {},
   "source": [
    "# Step1, read from spreadsheet, clean up, and get statistics"
   ]
  },
  {
   "cell_type": "code",
   "execution_count": 265,
   "metadata": {},
   "outputs": [],
   "source": [
    "import numpy as np\n",
    "import pandas as pd\n",
    "import sys, getopt\n",
    "import csv\n",
    "from datetime import datetime\n",
    "from datetime import timedelta, date\n",
    "import itertools\n",
    "\n",
    "from matplotlib import pyplot\n",
    "from pylab import *\n",
    "import matplotlib.pyplot as plt\n",
    "\n",
    "%matplotlib inline  \n",
    "import seaborn as sns"
   ]
  },
  {
   "cell_type": "code",
   "execution_count": 266,
   "metadata": {},
   "outputs": [],
   "source": [
    "#dx info\n",
    "df1=pd.read_csv(\"./data/pts_ml_as_select_distinct_cc_person_id_cc_cancer_type_name_202102261747.csv\", header=0)\n",
    "#targeted table row pt list\n",
    "df2=pd.read_excel(\"./data/pt_list_all_rows.xlsx\", header=0) \n",
    "#psa info\n",
    "df_psa=pd.read_csv(\"./data/PSA_values_labs_and_notes_temp_202103031711_fixed.csv\", header=0) \n",
    "#fixed get rid of \">\" or \"<\" symbols\n",
    "\n",
    "df1.fillna('', inplace=True)\n",
    "df1.replace(r'', np.NaN)\n",
    "df1[:3]\n",
    "\n",
    "df2.fillna('', inplace=True)\n",
    "df2.replace(r'', np.NaN)\n",
    "df2[:3]\n",
    "\n",
    "df_psa.fillna('', inplace=True)\n",
    "df_psa.replace(r'', np.NaN)\n",
    "df_psa[df_psa['person_id']==339]\n",
    "\n",
    "df1_pt['dxdate'] = pd.to_datetime(df1_pt['dxdate'])\n",
    "df_psa['psa_date'] = pd.to_datetime(df_psa['psa_date'])"
   ]
  },
  {
   "cell_type": "code",
   "execution_count": 267,
   "metadata": {},
   "outputs": [
    {
     "data": {
      "text/html": [
       "<div>\n",
       "<style scoped>\n",
       "    .dataframe tbody tr th:only-of-type {\n",
       "        vertical-align: middle;\n",
       "    }\n",
       "\n",
       "    .dataframe tbody tr th {\n",
       "        vertical-align: top;\n",
       "    }\n",
       "\n",
       "    .dataframe thead th {\n",
       "        text-align: right;\n",
       "    }\n",
       "</style>\n",
       "<table border=\"1\" class=\"dataframe\">\n",
       "  <thead>\n",
       "    <tr style=\"text-align: right;\">\n",
       "      <th></th>\n",
       "      <th>person_id</th>\n",
       "      <th>cancer_type_name</th>\n",
       "      <th>source_type</th>\n",
       "      <th>dxdate</th>\n",
       "      <th>dx_year</th>\n",
       "      <th>dx_month</th>\n",
       "      <th>date_of_birth</th>\n",
       "      <th>date_of_death</th>\n",
       "      <th>gender</th>\n",
       "      <th>race</th>\n",
       "      <th>ethnicity</th>\n",
       "      <th>ageatdx</th>\n",
       "      <th>psa</th>\n",
       "      <th>psa_date</th>\n",
       "    </tr>\n",
       "  </thead>\n",
       "  <tbody>\n",
       "    <tr>\n",
       "      <td>0</td>\n",
       "      <td>2</td>\n",
       "      <td>PCA</td>\n",
       "      <td>ml</td>\n",
       "      <td>1/7/03</td>\n",
       "      <td>2003</td>\n",
       "      <td>1</td>\n",
       "      <td>10/15/33</td>\n",
       "      <td>4/22/17 0:00</td>\n",
       "      <td>Male</td>\n",
       "      <td>White</td>\n",
       "      <td>Not Hispanic or Latino</td>\n",
       "      <td>69</td>\n",
       "      <td>1.51</td>\n",
       "      <td>1/7/03</td>\n",
       "    </tr>\n",
       "    <tr>\n",
       "      <td>1</td>\n",
       "      <td>11</td>\n",
       "      <td>PCA</td>\n",
       "      <td>ml</td>\n",
       "      <td>3/19/12</td>\n",
       "      <td>2012</td>\n",
       "      <td>3</td>\n",
       "      <td>1/22/68</td>\n",
       "      <td></td>\n",
       "      <td>Male</td>\n",
       "      <td>Black or African American</td>\n",
       "      <td>Not Hispanic or Latino</td>\n",
       "      <td>44</td>\n",
       "      <td></td>\n",
       "      <td></td>\n",
       "    </tr>\n",
       "    <tr>\n",
       "      <td>2</td>\n",
       "      <td>12</td>\n",
       "      <td>PCA</td>\n",
       "      <td>ml</td>\n",
       "      <td>10/24/12</td>\n",
       "      <td>2012</td>\n",
       "      <td>10</td>\n",
       "      <td>2/9/43</td>\n",
       "      <td></td>\n",
       "      <td>Male</td>\n",
       "      <td>Black or African American</td>\n",
       "      <td>Not Hispanic or Latino</td>\n",
       "      <td>70</td>\n",
       "      <td></td>\n",
       "      <td></td>\n",
       "    </tr>\n",
       "  </tbody>\n",
       "</table>\n",
       "</div>"
      ],
      "text/plain": [
       "   person_id cancer_type_name source_type    dxdate  dx_year dx_month  \\\n",
       "0          2              PCA          ml    1/7/03     2003        1   \n",
       "1         11              PCA          ml   3/19/12     2012        3   \n",
       "2         12              PCA          ml  10/24/12     2012       10   \n",
       "\n",
       "  date_of_birth date_of_death gender                       race  \\\n",
       "0      10/15/33  4/22/17 0:00   Male                      White   \n",
       "1       1/22/68                 Male  Black or African American   \n",
       "2        2/9/43                 Male  Black or African American   \n",
       "\n",
       "                ethnicity  ageatdx   psa psa_date  \n",
       "0  Not Hispanic or Latino       69  1.51   1/7/03  \n",
       "1  Not Hispanic or Latino       44                 \n",
       "2  Not Hispanic or Latino       70                 "
      ]
     },
     "execution_count": 267,
     "metadata": {},
     "output_type": "execute_result"
    }
   ],
   "source": [
    "df1[:3]"
   ]
  },
  {
   "cell_type": "raw",
   "metadata": {},
   "source": [
    "# For 899 rows for 399 pts in rows of patient ids in df2, just before and on dx date in df1, what are the PSA values?"
   ]
  },
  {
   "cell_type": "code",
   "execution_count": 268,
   "metadata": {},
   "outputs": [
    {
     "name": "stdout",
     "output_type": "stream",
     "text": [
      "overlapping counts dx:\n",
      "376\n",
      "overlapping counts psa:\n",
      "367\n",
      "overlapping counts dx_psa_targeted_table:\n",
      "350\n"
     ]
    }
   ],
   "source": [
    "#need dx date info from this table \n",
    "df1_grouped=df1.groupby([\"person_id\"]).size().reset_index(name='counts')\n",
    "list_pts_dx=df1[\"person_id\"].to_list()\n",
    "\n",
    "#need pt list for the result table \n",
    "list_pts_899row=df2[\"person_id\"].to_list()\n",
    "df2_grouped=df2.groupby([\"person_id\"]).size().reset_index(name='counts')\n",
    "list_pts_399pts=df2_grouped[\"person_id\"].to_list()\n",
    "\n",
    "#need pt list that has PSA\n",
    "df_psa_grouped=df_psa.groupby([\"person_id\"]).size().reset_index(name='counts')\n",
    "list_pts_psa=df_psa_grouped[\"person_id\"].to_list()\n",
    "\n",
    "#find out overlapping lists for dx\n",
    "intersection_set_dx=set.intersection(set(list_pts_399pts),set(list_pts_dx))\n",
    "print(\"overlapping counts dx:\")\n",
    "print(len(intersection_set_dx))\n",
    "overlap_list_dx=list(intersection_set_dx)\n",
    "\n",
    "#find out overlapping lists for psa\n",
    "intersection_set_psa=set.intersection(set(list_pts_399pts),set(list_pts_psa))\n",
    "print(\"overlapping counts psa:\")\n",
    "print(len(intersection_set_psa))\n",
    "overlap_list_psa=list(intersection_set_psa)\n",
    "\n",
    "intersection_set_allthree=set.intersection(set(list_pts_399pts),set(list_pts_psa),set(list_pts_dx))\n",
    "print(\"overlapping counts dx_psa_targeted_table:\")\n",
    "print(len(intersection_set_allthree))"
   ]
  },
  {
   "cell_type": "code",
   "execution_count": 269,
   "metadata": {},
   "outputs": [
    {
     "data": {
      "text/plain": [
       "[195757,\n",
       " 196351,\n",
       " 197112,\n",
       " 198262,\n",
       " 201667,\n",
       " 202211,\n",
       " 202841,\n",
       " 203350,\n",
       " 205050,\n",
       " 205289]"
      ]
     },
     "execution_count": 269,
     "metadata": {},
     "output_type": "execute_result"
    }
   ],
   "source": [
    "list_pts_399pts[:10]\n",
    "list_pts_399pts[-10:]"
   ]
  },
  {
   "cell_type": "code",
   "execution_count": 270,
   "metadata": {},
   "outputs": [
    {
     "data": {
      "text/plain": [
       "Index(['person_id', 'cancer_type_name', 'source_type', 'dxdate', 'dx_year',\n",
       "       'dx_month', 'date_of_birth', 'date_of_death', 'gender', 'race',\n",
       "       'ethnicity', 'ageatdx', 'psa', 'psa_date'],\n",
       "      dtype='object')"
      ]
     },
     "execution_count": 270,
     "metadata": {},
     "output_type": "execute_result"
    }
   ],
   "source": [
    "index_list=df1.columns\n",
    "index_list"
   ]
  },
  {
   "cell_type": "code",
   "execution_count": 271,
   "metadata": {},
   "outputs": [
    {
     "name": "stdout",
     "output_type": "stream",
     "text": [
      "(16018, 14)\n"
     ]
    }
   ],
   "source": [
    "print(df1.shape)"
   ]
  },
  {
   "cell_type": "code",
   "execution_count": 272,
   "metadata": {},
   "outputs": [],
   "source": [
    "#test out scenarioes\n",
    "#[267, 339, 345, 435, 805]\n",
    "#339 has no psa before dx"
   ]
  },
  {
   "cell_type": "markdown",
   "metadata": {},
   "source": [
    "# The cell below is reserved for prototyping and spot checking "
   ]
  },
  {
   "cell_type": "code",
   "execution_count": 273,
   "metadata": {},
   "outputs": [
    {
     "name": "stdout",
     "output_type": "stream",
     "text": [
      "2018-09-07 00:00:00\n",
      "<class 'pandas._libs.tslibs.timestamps.Timestamp'>\n"
     ]
    },
    {
     "name": "stderr",
     "output_type": "stream",
     "text": [
      "/Users/yuqincai/opt/anaconda3/lib/python3.7/site-packages/ipykernel_launcher.py:3: SettingWithCopyWarning: \n",
      "A value is trying to be set on a copy of a slice from a DataFrame.\n",
      "Try using .loc[row_indexer,col_indexer] = value instead\n",
      "\n",
      "See the caveats in the documentation: http://pandas.pydata.org/pandas-docs/stable/user_guide/indexing.html#returning-a-view-versus-a-copy\n",
      "  This is separate from the ipykernel package so we can avoid doing imports until\n"
     ]
    }
   ],
   "source": [
    "y=8334\n",
    "df1_pt=df1[(df1[\"person_id\"] == y)]\n",
    "df1_pt['dxdate'] = pd.to_datetime(df1_pt['dxdate'])\n",
    "\n",
    "pt_dx_date=df1_pt[\"dxdate\"].to_list()[0]\n",
    "#df2 only provide the 899 row of pt list \n",
    "print(pt_dx_date)\n",
    "df_psa_pt=df_psa[(df_psa[\"person_id\"] == y)]\n",
    "print(type(pt_dx_date))"
   ]
  },
  {
   "cell_type": "code",
   "execution_count": 274,
   "metadata": {},
   "outputs": [
    {
     "data": {
      "text/html": [
       "<div>\n",
       "<style scoped>\n",
       "    .dataframe tbody tr th:only-of-type {\n",
       "        vertical-align: middle;\n",
       "    }\n",
       "\n",
       "    .dataframe tbody tr th {\n",
       "        vertical-align: top;\n",
       "    }\n",
       "\n",
       "    .dataframe thead th {\n",
       "        text-align: right;\n",
       "    }\n",
       "</style>\n",
       "<table border=\"1\" class=\"dataframe\">\n",
       "  <thead>\n",
       "    <tr style=\"text-align: right;\">\n",
       "      <th></th>\n",
       "      <th>person_id</th>\n",
       "      <th>psa_date</th>\n",
       "      <th>psa_value</th>\n",
       "      <th>matched_psa_date</th>\n",
       "    </tr>\n",
       "  </thead>\n",
       "  <tbody>\n",
       "    <tr>\n",
       "      <td>1527</td>\n",
       "      <td>8334</td>\n",
       "      <td>2007-07-02</td>\n",
       "      <td>4.5</td>\n",
       "      <td></td>\n",
       "    </tr>\n",
       "    <tr>\n",
       "      <td>1528</td>\n",
       "      <td>8334</td>\n",
       "      <td>2011-09-20</td>\n",
       "      <td>8.21</td>\n",
       "      <td></td>\n",
       "    </tr>\n",
       "    <tr>\n",
       "      <td>1529</td>\n",
       "      <td>8334</td>\n",
       "      <td>2009-02-12</td>\n",
       "      <td>7.36</td>\n",
       "      <td></td>\n",
       "    </tr>\n",
       "    <tr>\n",
       "      <td>1530</td>\n",
       "      <td>8334</td>\n",
       "      <td>2012-05-16</td>\n",
       "      <td>8.18</td>\n",
       "      <td></td>\n",
       "    </tr>\n",
       "    <tr>\n",
       "      <td>1531</td>\n",
       "      <td>8334</td>\n",
       "      <td>2017-05-16</td>\n",
       "      <td>18.6</td>\n",
       "      <td>5/16/17</td>\n",
       "    </tr>\n",
       "  </tbody>\n",
       "</table>\n",
       "</div>"
      ],
      "text/plain": [
       "      person_id   psa_date psa_value matched_psa_date\n",
       "1527       8334 2007-07-02       4.5                 \n",
       "1528       8334 2011-09-20      8.21                 \n",
       "1529       8334 2009-02-12      7.36                 \n",
       "1530       8334 2012-05-16      8.18                 \n",
       "1531       8334 2017-05-16      18.6          5/16/17"
      ]
     },
     "execution_count": 274,
     "metadata": {},
     "output_type": "execute_result"
    }
   ],
   "source": [
    "df_psa_pt[:5]"
   ]
  },
  {
   "cell_type": "code",
   "execution_count": 275,
   "metadata": {},
   "outputs": [
    {
     "name": "stderr",
     "output_type": "stream",
     "text": [
      "/Users/yuqincai/opt/anaconda3/lib/python3.7/site-packages/ipykernel_launcher.py:6: SettingWithCopyWarning: \n",
      "A value is trying to be set on a copy of a slice from a DataFrame.\n",
      "Try using .loc[row_indexer,col_indexer] = value instead\n",
      "\n",
      "See the caveats in the documentation: http://pandas.pydata.org/pandas-docs/stable/user_guide/indexing.html#returning-a-view-versus-a-copy\n",
      "  \n"
     ]
    }
   ],
   "source": [
    "# for these 399 pts, how many had psa results before dx?\n",
    "\n",
    "for y in list_pts_899row: \n",
    "\n",
    "    df1_pt=df1[(df1[\"person_id\"] == y)]\n",
    "    df1_pt['dxdate'] = pd.to_datetime(df1_pt['dxdate'])\n",
    "    \n",
    "    if df1_pt[\"dxdate\"].empty:\n",
    "        count=0\n",
    "\n",
    "    if not df1_pt[\"dxdate\"].empty:\n",
    "        pt_dx_date=df1_pt[\"dxdate\"].to_list()[0]\n",
    "        df_psa_pt=df_psa[(df_psa[\"person_id\"] == y)]\n",
    "        df_psa_pt_before_dx=df_psa_pt[df_psa_pt.psa_date <= pt_dx_date]\n",
    "        count=shape(df_psa_pt_before_dx)[0]\n",
    "    #print(y,count)"
   ]
  },
  {
   "cell_type": "code",
   "execution_count": 276,
   "metadata": {},
   "outputs": [],
   "source": [
    "def closest(lst, K): \n",
    "      return lst[min(range(len(lst)), key = lambda i: abs(lst[i] - K))] \n",
    "    \n",
    "#psa_date=closest(start_sorted_bin,pt_dx_date)"
   ]
  },
  {
   "cell_type": "code",
   "execution_count": 277,
   "metadata": {},
   "outputs": [
    {
     "name": "stderr",
     "output_type": "stream",
     "text": [
      "/Users/yuqincai/opt/anaconda3/lib/python3.7/site-packages/ipykernel_launcher.py:16: SettingWithCopyWarning: \n",
      "A value is trying to be set on a copy of a slice from a DataFrame.\n",
      "Try using .loc[row_indexer,col_indexer] = value instead\n",
      "\n",
      "See the caveats in the documentation: http://pandas.pydata.org/pandas-docs/stable/user_guide/indexing.html#returning-a-view-versus-a-copy\n",
      "  app.launch_new_instance()\n"
     ]
    },
    {
     "name": "stdout",
     "output_type": "stream",
     "text": [
      "3576 5 2016-08-22 00:00:00 ['0.98', '18.25', '5.37']\n",
      "3576 5 2016-08-22 00:00:00 ['0.98', '18.25', '5.37']\n",
      "3576 5 2016-08-22 00:00:00 ['0.98', '18.25', '5.37']\n",
      "7532 10 2017-04-21 00:00:00 ['481', '481.04']\n",
      "7867 2 2018-04-11 00:00:00 ['9.5']\n",
      "7867 2 2018-04-11 00:00:00 ['9.5']\n",
      "7867 2 2018-04-11 00:00:00 ['9.5']\n",
      "7873 40 2015-09-15 00:00:00 ['13.85']\n",
      "8260 2 2018-06-08 00:00:00 ['1.99', '21.9']\n",
      "8334 23 2017-05-16 00:00:00 ['18.6']\n",
      "8334 23 2017-05-16 00:00:00 ['18.6']\n",
      "8334 23 2017-05-16 00:00:00 ['18.6']\n",
      "8334 23 2017-05-16 00:00:00 ['18.6']\n",
      "9071 1 2016-03-10 00:00:00 ['2.43']\n",
      "9097 22 2015-07-22 00:00:00 ['1050.8']\n",
      "9097 22 2015-07-22 00:00:00 ['1050.8']\n",
      "9097 22 2015-07-22 00:00:00 ['1050.8']\n",
      "11876 3 2016-07-18 00:00:00 ['0.94', '17.31', '5.43']\n",
      "11876 3 2016-07-18 00:00:00 ['0.94', '17.31', '5.43']\n",
      "11876 3 2016-07-18 00:00:00 ['0.94', '17.31', '5.43']\n",
      "11876 3 2016-07-18 00:00:00 ['0.94', '17.31', '5.43']\n",
      "11876 3 2016-07-18 00:00:00 ['0.94', '17.31', '5.43']\n",
      "11876 3 2016-07-18 00:00:00 ['0.94', '17.31', '5.43']\n",
      "13076 1 2017-03-02 00:00:00 ['11.2']\n",
      "13076 1 2017-03-02 00:00:00 ['11.2']\n",
      "13186 8 2018-07-19 00:00:00 ['5.6']\n",
      "13186 8 2018-07-19 00:00:00 ['5.6']\n",
      "13186 8 2018-07-19 00:00:00 ['5.6']\n",
      "13186 8 2018-07-19 00:00:00 ['5.6']\n",
      "13186 8 2018-07-19 00:00:00 ['5.6']\n",
      "13186 8 2018-07-19 00:00:00 ['5.6']\n",
      "13554 5 2015-09-08 00:00:00 ['4.97']\n",
      "13554 5 2015-09-08 00:00:00 ['4.97']\n",
      "13554 5 2015-09-08 00:00:00 ['4.97']\n",
      "13567 7 2015-02-05 00:00:00 ['2.36', '23.85', '9.9']\n",
      "17745 17 2015-11-02 00:00:00 ['1.01', '11.39', '8.87']\n",
      "17745 17 2015-11-02 00:00:00 ['1.01', '11.39', '8.87']\n",
      "17745 17 2015-11-02 00:00:00 ['1.01', '11.39', '8.87']\n",
      "17745 17 2015-11-02 00:00:00 ['1.01', '11.39', '8.87']\n",
      "17745 17 2015-11-02 00:00:00 ['1.01', '11.39', '8.87']\n",
      "17782 4 2015-07-13 00:00:00 ['1146.49']\n",
      "17782 4 2015-07-13 00:00:00 ['1146.49']\n",
      "18380 3 2016-06-17 00:00:00 ['0.89', '18.05', '4.93']\n",
      "18380 3 2016-06-17 00:00:00 ['0.89', '18.05', '4.93']\n",
      "18380 3 2016-06-17 00:00:00 ['0.89', '18.05', '4.93']\n",
      "19342 20 2017-09-19 00:00:00 ['6.44']\n",
      "19342 20 2017-09-19 00:00:00 ['6.44']\n",
      "19539 3 2015-10-19 00:00:00 ['24.83', '33.22', '8.25']\n",
      "19539 3 2015-10-19 00:00:00 ['24.83', '33.22', '8.25']\n",
      "19539 3 2015-10-19 00:00:00 ['24.83', '33.22', '8.25']\n",
      "19539 3 2015-10-19 00:00:00 ['24.83', '33.22', '8.25']\n",
      "19716 18 2017-12-20 00:00:00 ['1.8']\n",
      "19716 18 2017-12-20 00:00:00 ['1.8']\n",
      "20325 3 2014-08-26 00:00:00 ['1']\n",
      "20325 3 2014-08-26 00:00:00 ['1']\n",
      "20325 3 2014-08-26 00:00:00 ['1']\n",
      "20325 3 2014-08-26 00:00:00 ['1']\n",
      "20325 3 2014-08-26 00:00:00 ['1']\n",
      "20651 11 2015-11-09 00:00:00 ['10.18']\n",
      "20651 11 2015-11-09 00:00:00 ['10.18']\n",
      "20651 11 2015-11-09 00:00:00 ['10.18']\n",
      "21635 3 2017-05-18 00:00:00 ['4.97']\n",
      "21635 3 2017-05-18 00:00:00 ['4.97']\n",
      "21635 3 2017-05-18 00:00:00 ['4.97']\n",
      "23236 6 2018-08-31 00:00:00 ['6.9']\n",
      "23236 6 2018-08-31 00:00:00 ['6.9']\n",
      "23236 6 2018-08-31 00:00:00 ['6.9']\n",
      "23236 6 2018-08-31 00:00:00 ['6.9']\n",
      "23236 6 2018-08-31 00:00:00 ['6.9']\n",
      "23618 3 2013-02-27 00:00:00 ['3.5', '3.6']\n",
      "25761 1 2018-04-01 00:00:00 ['3.9']\n",
      "25761 1 2018-04-01 00:00:00 ['3.9']\n",
      "25834 3 2016-01-25 00:00:00 ['0.79', '21.18', '3.73']\n",
      "25834 3 2016-01-25 00:00:00 ['0.79', '21.18', '3.73']\n",
      "25834 3 2016-01-25 00:00:00 ['0.79', '21.18', '3.73']\n",
      "27944 1 2015-09-09 00:00:00 ['1.87']\n",
      "27944 1 2015-09-09 00:00:00 ['1.87']\n",
      "27944 1 2015-09-09 00:00:00 ['1.87']\n",
      "27944 1 2015-09-09 00:00:00 ['1.87']\n",
      "28180 9 2016-03-11 00:00:00 ['8.3']\n",
      "28180 9 2016-03-11 00:00:00 ['8.3']\n",
      "28357 2 2018-07-05 00:00:00 ['5.2']\n",
      "28357 2 2018-07-05 00:00:00 ['5.2']\n",
      "29475 7 2016-07-08 00:00:00 ['6.3']\n",
      "29475 7 2016-07-08 00:00:00 ['6.3']\n",
      "29475 7 2016-07-08 00:00:00 ['6.3']\n",
      "30517 1 2016-10-12 00:00:00 ['3.9']\n",
      "30517 1 2016-10-12 00:00:00 ['3.9']\n",
      "31118 1 2017-08-28 00:00:00 ['0.859']\n",
      "33106 16 2016-12-13 00:00:00 ['12', '277.9', '33.3']\n",
      "33106 16 2016-12-13 00:00:00 ['12', '277.9', '33.3']\n",
      "33106 16 2016-12-13 00:00:00 ['12', '277.9', '33.3']\n",
      "33106 16 2016-12-13 00:00:00 ['12', '277.9', '33.3']\n",
      "33106 16 2016-12-13 00:00:00 ['12', '277.9', '33.3']\n",
      "33106 16 2016-12-13 00:00:00 ['12', '277.9', '33.3']\n",
      "33503 1 2017-09-25 00:00:00 ['3.2']\n",
      "33919 1 2014-03-21 00:00:00 ['13.8']\n",
      "34634 1 2018-05-01 00:00:00 ['10.4']\n",
      "34634 1 2018-05-01 00:00:00 ['10.4']\n",
      "35721 3 2018-06-19 00:00:00 ['1.45', '9.1']\n",
      "35721 3 2018-06-19 00:00:00 ['1.45', '9.1']\n",
      "35721 3 2018-06-19 00:00:00 ['1.45', '9.1']\n",
      "35774 3 2018-05-31 00:00:00 ['0.61', '12.2', '5']\n",
      "35774 3 2018-05-31 00:00:00 ['0.61', '12.2', '5']\n",
      "35774 3 2018-05-31 00:00:00 ['0.61', '12.2', '5']\n",
      "169549 2 2019-05-08 00:00:00 ['1.23', '8.3']\n",
      "169549 2 2019-05-08 00:00:00 ['1.23', '8.3']\n",
      "171182 33 2018-11-18 00:00:00 ['4.7', '50', '62']\n",
      "171182 33 2018-11-18 00:00:00 ['4.7', '50', '62']\n",
      "171182 33 2018-11-18 00:00:00 ['4.7', '50', '62']\n",
      "171182 33 2018-11-18 00:00:00 ['4.7', '50', '62']\n",
      "171182 33 2018-11-18 00:00:00 ['4.7', '50', '62']\n",
      "171182 33 2018-11-18 00:00:00 ['4.7', '50', '62']\n",
      "171182 33 2018-11-18 00:00:00 ['4.7', '50', '62']\n",
      "171182 33 2018-11-18 00:00:00 ['4.7', '50', '62']\n",
      "171240 78 2016-11-03 00:00:00 ['9.33']\n",
      "171240 78 2016-11-03 00:00:00 ['9.33']\n",
      "171442 35 2018-11-13 00:00:00 ['32.18']\n",
      "171442 35 2018-11-13 00:00:00 ['32.18']\n",
      "171442 35 2018-11-13 00:00:00 ['32.18']\n",
      "171442 35 2018-11-13 00:00:00 ['32.18']\n",
      "171442 35 2018-11-13 00:00:00 ['32.18']\n",
      "172448 1 2018-11-13 00:00:00 ['25.4']\n",
      "172448 1 2018-11-13 00:00:00 ['25.4']\n",
      "173883 11 2014-04-02 00:00:00 ['0.55']\n",
      "173883 11 2014-04-02 00:00:00 ['0.55']\n",
      "173883 11 2014-04-02 00:00:00 ['0.55']\n",
      "173883 11 2014-04-02 00:00:00 ['0.55']\n",
      "174026 3 2018-10-23 00:00:00 ['1.3', '13.1']\n",
      "174026 3 2018-10-23 00:00:00 ['1.3', '13.1']\n",
      "174044 1 2018-10-18 00:00:00 ['23.89']\n",
      "174044 1 2018-10-18 00:00:00 ['23.89']\n",
      "180904 74 2019-02-06 00:00:00 ['11.1']\n",
      "180904 74 2019-02-06 00:00:00 ['11.1']\n",
      "180904 74 2019-02-06 00:00:00 ['11.1']\n",
      "180904 74 2019-02-06 00:00:00 ['11.1']\n",
      "180904 74 2019-02-06 00:00:00 ['11.1']\n",
      "180904 74 2019-02-06 00:00:00 ['11.1']\n",
      "180904 74 2019-02-06 00:00:00 ['11.1']\n",
      "180904 74 2019-02-06 00:00:00 ['11.1']\n",
      "181011 2 2019-02-12 00:00:00 ['9']\n",
      "181011 2 2019-02-12 00:00:00 ['9']\n",
      "181092 10 2019-09-09 00:00:00 ['3.79', '6.08']\n",
      "181092 10 2019-09-09 00:00:00 ['3.79', '6.08']\n",
      "181469 3 2019-01-04 00:00:00 ['12.7', '3.46']\n",
      "181469 3 2019-01-04 00:00:00 ['12.7', '3.46']\n",
      "181598 1 2019-02-28 00:00:00 ['129.14']\n",
      "181598 1 2019-02-28 00:00:00 ['129.14']\n",
      "181598 1 2019-02-28 00:00:00 ['129.14']\n",
      "181598 1 2019-02-28 00:00:00 ['129.14']\n",
      "181598 1 2019-02-28 00:00:00 ['129.14']\n",
      "181598 1 2019-02-28 00:00:00 ['129.14']\n",
      "181598 1 2019-02-28 00:00:00 ['129.14']\n",
      "182001 14 2019-04-30 00:00:00 ['0.8', '18.5', '4.3']\n",
      "182001 14 2019-04-30 00:00:00 ['0.8', '18.5', '4.3']\n",
      "182001 14 2019-04-30 00:00:00 ['0.8', '18.5', '4.3']\n",
      "182004 1 2018-11-14 00:00:00 ['66.24']\n",
      "182302 2 2019-04-01 00:00:00 ['30.59', '6']\n",
      "182302 2 2019-04-01 00:00:00 ['30.59', '6']\n",
      "183747 4 2019-05-06 00:00:00 ['9']\n",
      "185086 6 2019-05-03 00:00:00 ['5.73']\n",
      "185125 1 2019-03-19 00:00:00 ['5.26']\n",
      "185574 12 2016-05-20 00:00:00 ['0.1', '1.01', '9.9']\n",
      "185574 12 2016-05-20 00:00:00 ['0.1', '1.01', '9.9']\n",
      "187215 9 2019-04-17 00:00:00 ['6.19']\n",
      "187215 9 2019-04-17 00:00:00 ['6.19']\n",
      "189556 1 2018-09-17 00:00:00 ['104.4']\n",
      "189556 1 2018-09-17 00:00:00 ['104.4']\n",
      "196351 8 2019-09-19 00:00:00 ['304.35']\n",
      "196351 8 2019-09-19 00:00:00 ['304.35']\n",
      "5043 3 2018-05-18 00:00:00 ['1.07']\n",
      "5374 2 2009-10-29 00:00:00 ['3.39']\n",
      "5761 4 2017-01-05 00:00:00 ['16.09']\n",
      "5761 4 2017-01-05 00:00:00 ['16.09']\n",
      "10276 15 2018-09-13 00:00:00 ['65.3']\n",
      "10276 15 2018-09-13 00:00:00 ['65.3']\n",
      "10276 15 2018-09-13 00:00:00 ['65.3']\n",
      "12969 1 2016-04-11 00:00:00 ['2.92']\n",
      "12969 1 2016-04-11 00:00:00 ['2.92']\n",
      "12969 1 2016-04-11 00:00:00 ['2.92']\n",
      "14734 12 2018-09-17 00:00:00 ['0.42']\n",
      "15612 2 2012-11-08 00:00:00 ['1.68']\n",
      "15612 2 2012-11-08 00:00:00 ['1.68']\n",
      "19566 46 2016-09-01 00:00:00 ['1.05', '13.58', '7.73']\n",
      "22691 26 2017-11-29 00:00:00 ['']\n",
      "22691 26 2017-11-29 00:00:00 ['']\n",
      "25011 1 2011-06-23 00:00:00 ['8.6']\n",
      "29120 2 2018-07-16 00:00:00 ['21.24', '37.4']\n",
      "29120 2 2018-07-16 00:00:00 ['21.24', '37.4']\n",
      "29120 2 2018-07-16 00:00:00 ['21.24', '37.4']\n",
      "29572 21 2017-10-26 00:00:00 ['1.58', '10.7', '14.77']\n",
      "34483 1 2017-09-27 00:00:00 ['47.84']\n",
      "55760 3 2014-07-07 00:00:00 ['0.73', '2.47', '29.55']\n",
      "165621 133 2019-10-02 00:00:00 ['19.69', '29.4', '66.97']\n",
      "165621 133 2019-10-02 00:00:00 ['19.69', '29.4', '66.97']\n",
      "165621 133 2019-10-02 00:00:00 ['19.69', '29.4', '66.97']\n",
      "165621 133 2019-10-02 00:00:00 ['19.69', '29.4', '66.97']\n",
      "165621 133 2019-10-02 00:00:00 ['19.69', '29.4', '66.97']\n",
      "165621 133 2019-10-02 00:00:00 ['19.69', '29.4', '66.97']\n",
      "165621 133 2019-10-02 00:00:00 ['19.69', '29.4', '66.97']\n",
      "165621 133 2019-10-02 00:00:00 ['19.69', '29.4', '66.97']\n",
      "165621 133 2019-10-02 00:00:00 ['19.69', '29.4', '66.97']\n",
      "165621 133 2019-10-02 00:00:00 ['19.69', '29.4', '66.97']\n",
      "167247 21 2018-12-11 00:00:00 ['0.39', '10.5']\n"
     ]
    },
    {
     "name": "stdout",
     "output_type": "stream",
     "text": [
      "191902 4 2015-11-30 00:00:00 ['1.05', '18.75', '5.6']\n",
      "191902 4 2015-11-30 00:00:00 ['1.05', '18.75', '5.6']\n",
      "198262 2 2019-09-26 00:00:00 ['4.36']\n"
     ]
    }
   ],
   "source": [
    "# for these 399 pts, how many had psa results before dx?\n",
    "#sort all psa dates; find the last before dx; grab the dates, and all values on that date \n",
    "values=[]\n",
    "result_list=[]\n",
    "\n",
    "for y in list_pts_899row: \n",
    "\n",
    "    # pt must be in the dx_date list\n",
    "    if y not in overlap_list_dx:\n",
    "        count=0\n",
    "        last_psa_date='NaN'\n",
    "        values=['NaN']        \n",
    "\n",
    "    if y in overlap_list_dx:\n",
    "        df1_pt=df1[(df1[\"person_id\"] == y)]\n",
    "        df1_pt['dxdate'] = pd.to_datetime(df1_pt['dxdate'])\n",
    "    \n",
    "        if df1_pt[\"dxdate\"].empty:\n",
    "            count=0\n",
    "            last_psa_date='NaN'\n",
    "            values=['NaN']        \n",
    "\n",
    "        if not df1_pt[\"dxdate\"].empty:\n",
    "            pt_dx_date=df1_pt[\"dxdate\"].to_list()[0]\n",
    "            df_psa_pt=df_psa[(df_psa[\"person_id\"] == y)]\n",
    "        \n",
    "            df_psa_pt_before_dx=df_psa_pt[(df_psa_pt.psa_date <= pt_dx_date)&(df_psa_pt.psa_value.notnull())]\n",
    " \n",
    "            each_pt_psa_date_before_dx = df_psa_pt_before_dx['psa_date'].to_list()\n",
    "            sorted_each_pt_psa_before_dx=sorted(each_pt_psa_date_before_dx)\n",
    "            count=len(sorted_each_pt_psa_before_dx)\n",
    "        \n",
    "            if len(sorted_each_pt_psa_before_dx)==0:\n",
    "                last_psa_date='NaN'\n",
    "                values=['NaN']\n",
    "        \n",
    "            if len(sorted_each_pt_psa_before_dx)>0:\n",
    "                last_psa_date=closest(sorted_each_pt_psa_before_dx,pt_dx_date)\n",
    "                #pick up all values for that date\n",
    "                sub_set=df_psa_pt_before_dx[(df_psa_pt_before_dx['psa_date']==last_psa_date)]\n",
    "                \n",
    "                #sort and get rid of redundancies\n",
    "                each_pt_info= sorted(sub_set.psa_value.to_list())\n",
    "                each_pt_dates=list(dict.fromkeys(each_pt_info))\n",
    "\n",
    "                values=each_pt_dates\n",
    "                print(y,count,last_psa_date,values)\n",
    "            \n",
    "    result_per_pt=[y,pt_dx_date,count,last_psa_date,values]\n",
    "    result_list.append(result_per_pt)"
   ]
  },
  {
   "cell_type": "code",
   "execution_count": 278,
   "metadata": {},
   "outputs": [],
   "source": [
    "df_psa_results=pd.DataFrame(result_list)\n",
    "df_psa_results.columns=(['person_id', 'dx_date','Number_of_PSA_dates_with_PSA_values_before_dx','Last_PSA_date_before_dx', 'Last_PSA_values_before_dx'])"
   ]
  },
  {
   "cell_type": "code",
   "execution_count": 279,
   "metadata": {},
   "outputs": [
    {
     "data": {
      "text/html": [
       "<div>\n",
       "<style scoped>\n",
       "    .dataframe tbody tr th:only-of-type {\n",
       "        vertical-align: middle;\n",
       "    }\n",
       "\n",
       "    .dataframe tbody tr th {\n",
       "        vertical-align: top;\n",
       "    }\n",
       "\n",
       "    .dataframe thead th {\n",
       "        text-align: right;\n",
       "    }\n",
       "</style>\n",
       "<table border=\"1\" class=\"dataframe\">\n",
       "  <thead>\n",
       "    <tr style=\"text-align: right;\">\n",
       "      <th></th>\n",
       "      <th>person_id</th>\n",
       "      <th>dx_date</th>\n",
       "      <th>Number_of_PSA_dates_with_PSA_values_before_dx</th>\n",
       "      <th>Last_PSA_date_before_dx</th>\n",
       "      <th>Last_PSA_values_before_dx</th>\n",
       "    </tr>\n",
       "  </thead>\n",
       "  <tbody>\n",
       "    <tr>\n",
       "      <td>200</td>\n",
       "      <td>17782</td>\n",
       "      <td>2015-07-16</td>\n",
       "      <td>4</td>\n",
       "      <td>2015-07-13 00:00:00</td>\n",
       "      <td>[1146.49]</td>\n",
       "    </tr>\n",
       "    <tr>\n",
       "      <td>201</td>\n",
       "      <td>18071</td>\n",
       "      <td>NaT</td>\n",
       "      <td>0</td>\n",
       "      <td>NaN</td>\n",
       "      <td>[NaN]</td>\n",
       "    </tr>\n",
       "    <tr>\n",
       "      <td>202</td>\n",
       "      <td>18071</td>\n",
       "      <td>NaT</td>\n",
       "      <td>0</td>\n",
       "      <td>NaN</td>\n",
       "      <td>[NaN]</td>\n",
       "    </tr>\n",
       "  </tbody>\n",
       "</table>\n",
       "</div>"
      ],
      "text/plain": [
       "     person_id    dx_date  Number_of_PSA_dates_with_PSA_values_before_dx  \\\n",
       "200      17782 2015-07-16                                              4   \n",
       "201      18071        NaT                                              0   \n",
       "202      18071        NaT                                              0   \n",
       "\n",
       "    Last_PSA_date_before_dx Last_PSA_values_before_dx  \n",
       "200     2015-07-13 00:00:00                 [1146.49]  \n",
       "201                     NaN                     [NaN]  \n",
       "202                     NaN                     [NaN]  "
      ]
     },
     "execution_count": 279,
     "metadata": {},
     "output_type": "execute_result"
    }
   ],
   "source": [
    "df_psa_results[200:203]"
   ]
  },
  {
   "cell_type": "code",
   "execution_count": 280,
   "metadata": {},
   "outputs": [
    {
     "data": {
      "text/plain": [
       "899"
      ]
     },
     "execution_count": 280,
     "metadata": {},
     "output_type": "execute_result"
    }
   ],
   "source": [
    "len(df_psa_results)\n",
    "len(list_pts_899row)"
   ]
  },
  {
   "cell_type": "code",
   "execution_count": 281,
   "metadata": {},
   "outputs": [],
   "source": [
    "df_psa_results.to_csv(\"./data/pca_399pts_with_PSA_dates_and_values_before_dx.csv\",encoding='utf-8',index=False)"
   ]
  }
 ],
 "metadata": {
  "kernelspec": {
   "display_name": "Python 3",
   "language": "python",
   "name": "python3"
  },
  "language_info": {
   "codemirror_mode": {
    "name": "ipython",
    "version": 3
   },
   "file_extension": ".py",
   "mimetype": "text/x-python",
   "name": "python",
   "nbconvert_exporter": "python",
   "pygments_lexer": "ipython3",
   "version": "3.7.4"
  }
 },
 "nbformat": 4,
 "nbformat_minor": 2
}
